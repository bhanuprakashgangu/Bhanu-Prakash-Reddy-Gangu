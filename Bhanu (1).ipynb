{
 "cells": [
  {
   "cell_type": "code",
   "execution_count": 3,
   "id": "b841beb5",
   "metadata": {},
   "outputs": [],
   "source": [
    "#! /usr/bin/env python\n",
    "\n",
    "\n",
    "\n",
    "from statistics import *\n",
    "\n",
    "from typing import List\n",
    "list_of_int = List[int]\n",
    "list_of_str = List[str]\n",
    "from math import pi\n",
    "# imports "
   ]
  },
  {
   "cell_type": "markdown",
   "id": "71d1f95b",
   "metadata": {},
   "source": [
    "# Question 1\n",
    "### The following is a list of 10 students ages:\n",
    "### ages = [19, 22, 19, 24, 20, 25, 26, 24, 25, 24]\n",
    "- Sort the list and find the min and max age\n",
    "- Add the min age and the max age again to the list\n",
    "- Find the median age (one middle item or two middle items divided by two)\n",
    "- Find the average age (sum of all items divided by their number)\n",
    "- Find the range of the ages (max minus min)"
   ]
  },
  {
   "cell_type": "code",
   "execution_count": 12,
   "id": "6bdd11d6",
   "metadata": {},
   "outputs": [
    {
     "name": "stdout",
     "output_type": "stream",
     "text": [
      "min : 19 max : 26\n",
      "sorted list :[19, 19, 20, 22, 24, 24, 24, 25, 25, 26]\n",
      "after add min and max in ages : [19, 22, 19, 24, 20, 25, 26, 24, 25, 24, 19, 26]\n",
      "median :24.0\n",
      "avg : 22.75\n",
      "range:7\n"
     ]
    }
   ],
   "source": [
    "\n",
    "ages = [19, 22, 19, 24, 20, 25, 26, 24, 25, 24]\n",
    "# sorting\n",
    "sorted_ages=sorted(ages)\n",
    "print(\"min :\",sorted_ages[0],\"max :\",sorted_ages[-1],sep=\" \")\n",
    "print(f'sorted list :{sorted_ages}')\n",
    "\n",
    "ages.append(min(ages))  \n",
    "ages.append(max(ages)) \n",
    "print(\"after add min and max in ages :\",ages)\n",
    "\n",
    "print(f\"median :{median(ages)}\",f\"avg : {mean(ages)}\",f\"range:{max(ages)-min(ages)}\",sep=\"\\n\")"
   ]
  },
  {
   "cell_type": "markdown",
   "id": "2f0d980d",
   "metadata": {},
   "source": [
    "# Explanation\n",
    "\n",
    "### 1 list are mutable data structure (we can  modified after creating it or defining it  )\n",
    "### 2  list are so easy to use as we can simply acess element throught indexing , we can also use reverse           indexing as well eg arr[-1] last element of array in list   \n",
    "### 3 list have lot of build in method like sort where we can sort entire elements in list \n",
    "### 4 diff b/w sort and sorted sort will sort element inside list and sorted will return sorted list \n",
    "\n"
   ]
  },
  {
   "cell_type": "markdown",
   "id": "e7007fb6",
   "metadata": {},
   "source": [
    "# Question 2\n",
    "\n",
    "## Create an empty dictionary called dog\n",
    "- Add name, color, breed, legs, age to the dog dictionary\n",
    "- Create a student dictionary and add first_name, last_name, gender, age, marital status, skills, country, city and address as keys for the dictionary\n",
    "- Get the length of the student dictionary\n",
    "- Get the value of skills and check the data type, it should be a list\n",
    "- Modify the skills values by adding one or two skills\n",
    "- Get the dictionary keys as a list\n",
    "- Get the dictionary values as a list\n",
    "\n"
   ]
  },
  {
   "cell_type": "code",
   "execution_count": 177,
   "id": "ae2e2ff5",
   "metadata": {},
   "outputs": [
    {
     "name": "stdout",
     "output_type": "stream",
     "text": [
      "length of student dic : 9\n",
      " true skills   is the type of list \n",
      "before modifying skill set :\t['machine learning', 'python', 'java']\n",
      "After modifying skill set : \t['machine learning', 'python', 'c++']\n",
      "\n",
      "Student keys :\n",
      "type - <class 'list'>\n",
      "['first_name', 'last_name', 'gender', 'age', 'marital status', 'skills', 'country', 'city', 'address']\n",
      "Student values\n",
      "type - <class 'list'>\n",
      "['Bhanu', 's', 'Male', 23, 'single', ['machine learning', 'python', 'c++'], 'India', 'hyderabad', 'Bank colony 500086']\n"
     ]
    }
   ],
   "source": [
    "\n",
    "\n",
    "dog = {'name':str,'breed':str,'legs':int,'age':int}\n",
    "\n",
    "dog[\"name\"]=\"Tom\"\n",
    "dog[\"color\"] = \"white\"\n",
    "dog[\"breed\"] ='us'\n",
    "dog['legs'] = 4\n",
    "dog ['age'] = 2\n",
    "#defined student dic according to condition like skill should be list \n",
    "s= {'first_name':str, 'last_name':str, 'gender':str,'age':int, 'marital status':str,'skills':list_of_str,'country':str, 'city':str ,'address':str}\n",
    "#add details bhanu \n",
    "\n",
    "s['first_name'] = \"Bhanu\"\n",
    "s['last_name'] = \"s\"\n",
    "s['gender'] = 'Male'\n",
    "s['age'] = 23\n",
    "s['marital status']='single'\n",
    "s['skills'] = [\"machine learning\",\"python\",\"java\"]\n",
    "s[\"country\"] = \"India\"\n",
    "s[\"city\"] =\"hyderabad\"\n",
    "s[\"address\"] = \"Bank colony 500086\"\n",
    "\n",
    "print(f'length of student dic : {len(s)}')#length of student\n",
    "\n",
    "if type(s['skills']) == list:\n",
    "        print(\" true skills   is the type of list \")\n",
    "else:print(type(s['skills']))\n",
    "\n",
    "print(\"before modifying skill set :\",s['skills'],sep=\"\\t\",end=\"\\n\")\n",
    "\"Modifying skill set  \"    \n",
    "s['skills'][-1] = \"c++\" \n",
    "\"After modifying skill set\"\n",
    "print(\"After modifying skill set : \",s['skills'],sep=\"\\t\",end=\"\\n\\n\")\n",
    "\n",
    "s_keys=list(s.keys())\n",
    "s_values=list(s.values())\n",
    "print(\"Student keys :\",f\"type - {type(s_keys)}\",s_keys,sep=\"\\n\")\n",
    "print(\"Student values\",f\"type - {type(s_values)}\",s_values,sep=\"\\n\")\n"
   ]
  },
  {
   "cell_type": "markdown",
   "id": "4d610169",
   "metadata": {},
   "source": [
    "# Explanation\n",
    "\n",
    "#### 1 Dictionaries are used to store data values in key:value pairs.\n",
    "\n",
    "#### 2 A dictionary is a collection which is ordered*, changeable and do not allow duplicates.\n",
    "\n",
    "#### 3 Dictionaries cannot have two items with the same key\n",
    "\n",
    "\n"
   ]
  },
  {
   "cell_type": "markdown",
   "id": "a1b23d58",
   "metadata": {},
   "source": [
    "# Question 3\n",
    "- Create a tuple containing names of your sisters and your brothers (imaginary siblings are\n",
    "fine)\n",
    "- Join brothers and sisters tuples and assign it to siblings\n",
    "- How many siblings do you have?\n",
    "- Modify the siblings tuple and add the name of your father and mother and assign it to family_members"
   ]
  },
  {
   "cell_type": "code",
   "execution_count": 176,
   "id": "703e2362",
   "metadata": {},
   "outputs": [
    {
     "name": "stdout",
     "output_type": "stream",
     "text": [
      "count of siblings : 6\n",
      "family members : ('srija', 'sindu', 'Indu', 'vinya', 'saral', 'sun', 'shiva', 'ganesh', 'Parvathi')\n"
     ]
    }
   ],
   "source": [
    "'''\n",
    "Tuples are similar to list but differnce is once they are defined we can not change values \n",
    "in one word they are immutable\n",
    "'''\n",
    "sisters=(\"srija\",\"sindu\",\"Indu\")\n",
    "brothers = (\"vinya\",\"saral\",\"sun\")\n",
    "\n",
    "siblings=sisters+brothers\n",
    "print(f\"count of siblings : {len(siblings)}\")\n",
    "family_members = (\"srija\",\"sindu\",\"Indu\",\"vinya\",\"saral\",\"sun\",\"shiva\",\"ganesh\",\"Parvathi\")\n",
    "print(\"family members :\",family_members,sep=\" \")"
   ]
  },
  {
   "cell_type": "markdown",
   "id": "f1c88bb2",
   "metadata": {},
   "source": [
    "# Explanation\n",
    "\n",
    "### 1.Tuples are used to store multiple items in a single variable similar to list but immutable\n",
    "### 2. as we see we can create new tuple but can not edit old tuble values \n"
   ]
  },
  {
   "cell_type": "markdown",
   "id": "c35f8980",
   "metadata": {},
   "source": [
    "# Question 4\n",
    "\n",
    "- it_companies = {'Facebook', 'Google', 'Microsoft', 'Apple', 'IBM', 'Oracle', 'Amazon'}\n",
    "- A = {19, 22, 24, 20, 25, 26}\n",
    "- B = {19, 22, 20, 25, 26, 24, 28, 27}\n",
    "- age = [22, 19, 24, 25, 26, 24, 25, 24]\n",
    "- Find the length of the set it_companies\n",
    "- Add 'Twitter' to it_companies\n",
    "- Insert multiple IT companies at once to the set it_companies\n",
    "- Remove one of the companies from the set it_companies\n",
    "- What is the difference between remove and discard\n",
    "- Join A and B\n",
    "- Find A intersection B\n",
    "- Is A subset of B\n",
    "- Are A and B disjoint sets\n",
    "- Join A with B and B with A\n",
    "- What is the symmetric difference between A and B\n",
    "- Delete the sets completely\n",
    "- Convert the ages to a set and compare the length of the list and the set."
   ]
  },
  {
   "cell_type": "code",
   "execution_count": 219,
   "id": "b57fb960",
   "metadata": {},
   "outputs": [
    {
     "name": "stdout",
     "output_type": "stream",
     "text": [
      "length of it companies : 7\n",
      "before adding : {'Amazon', 'Apple', 'Facebook', 'Oracle', 'Microsoft', 'IBM', 'Google'}\n",
      "after adding Twitter: {'Amazon', 'Apple', 'Facebook', 'Twitter', 'Oracle', 'Microsoft', 'IBM', 'Google'}\n",
      "after adding New companies: {'Amazon', 'TCS', 'Google', 'Oracle', 'Wipro', 'Microsoft', 'Apple', 'Twitter', 'IBM', 'Facebook'}\n",
      "after removing wipro company: {'Amazon', 'TCS', 'Google', 'Oracle', 'Microsoft', 'Apple', 'Twitter', 'IBM', 'Facebook'}\n",
      "\n",
      "Joining A and B : {19, 20, 22, 24, 25, 26, 27, 28}\n",
      "Yes,A is subset of B\n",
      "No A is not disjoint of B\n",
      "Joining A and B : {19, 20, 22, 24, 25, 26, 27, 28}\n",
      "Joining B and A : {19, 20, 22, 24, 25, 26, 27, 28}\n",
      "symmetric difference between A and B is : {27, 28}\n",
      "After clearning element :\n",
      "set()\n",
      "set()\n",
      "as they are lot of common element set length less compared to list \n",
      "list :8\n",
      "set:5\n"
     ]
    }
   ],
   "source": [
    "it_companies = {'Facebook', 'Google', 'Microsoft', 'Apple', 'IBM', 'Oracle', 'Amazon'}\n",
    "print(\"length of it companies :\",len(it_companies),sep=\" \")\n",
    "print(\"before adding :\",it_companies ,sep=\" \")\n",
    "it_companies.add('Twitter')\n",
    "print(\"after adding Twitter:\",it_companies ,sep=\" \")\n",
    "new_companies= ['TCS','Wipro']\n",
    "it_companies.update(new_companies)\n",
    "print(\"after adding New companies:\",it_companies ,sep=\" \")\n",
    "\n",
    "'''\n",
    "The discard() method removes the specified item from the set. This method is different from the remove() method, \n",
    "because the remove() method will raise an error if the specified item does not exist, \n",
    "and the discard() method will not.\n",
    "\n",
    "'''\n",
    "it_companies.discard('Wipro')\n",
    "print(\"after removing wipro company:\",it_companies ,sep=\" \",end=\"\\n\\n\")\n",
    "\n",
    "\n",
    "#########################################\n",
    "A = {19, 22, 24, 20, 25, 26}\n",
    "B = {19, 22, 20, 25, 26, 24, 28, 27}\n",
    "print(\"Joining A and B :\",A.union(B),sep =\" \")\n",
    "if A.issubset(B):\n",
    "    print(\"Yes,A is subset of B\")\n",
    "else:print(\"No A is not subset of B\")\n",
    "if A.isdisjoint(B):\n",
    "    print(\"Yes,A is disjoint of B\")\n",
    "else:print(\"No A is not disjoint of B\")\n",
    "print(\"Joining A and B :\",A.union(B),sep =\" \")\n",
    "print(\"Joining B and A :\",B.union(A),sep =\" \")\n",
    "print(\"symmetric difference between A and B is :\",A.symmetric_difference(B))\n",
    "A.clear()\n",
    "B.clear()\n",
    "\n",
    "print(\"After clearning element :\",A,B,sep=\"\\n\")\n",
    "age = [22, 19, 24, 25, 26, 24, 25, 24]\n",
    "len_agelist=len(age)\n",
    "age=set(age)\n",
    "len_age_set=len(age)\n",
    "print(\"as they are lot of common element set length less compared to list \",f'list :{len_agelist}',f'set:{len_age_set}',sep=\"\\n\")"
   ]
  },
  {
   "cell_type": "markdown",
   "id": "d86777ef",
   "metadata": {},
   "source": [
    "# exlplanation\n",
    "\n",
    "#### 1 set is unorder list ,we cannot access through indexing  we can do all mathamatical operation in set\n",
    "#### 2 lot special method are in set\n"
   ]
  },
  {
   "cell_type": "markdown",
   "id": "2ed3f58a",
   "metadata": {},
   "source": [
    "# Question 5\n",
    "### The radius of a circle is 30 meters.\n",
    "- Calculate the area of a circle and assign the value to a variable name of _area_of_circle_\n",
    "- Calculate the circumference of a circle and assign the value to a variable name of circum_of_circle_\n",
    "- Take radius as user input and calculate the area."
   ]
  },
  {
   "cell_type": "code",
   "execution_count": 235,
   "id": "2cafbbdd",
   "metadata": {},
   "outputs": [
    {
     "name": "stdout",
     "output_type": "stream",
     "text": [
      "4\n",
      "area of circle :50\n",
      "circum_of_circle 25\n"
     ]
    }
   ],
   "source": [
    "#area_of_circle,circumfrence of circle\n",
    "\n",
    "def rununtil():\n",
    "    try:\n",
    "        r = eval(input())\n",
    "    except:\n",
    "        print(\"please entire a number \")\n",
    "        rununtil()\n",
    "    else:\n",
    "        area_of_circle =lambda r:int(pi*r**2)\n",
    "        circum_of_circle =lambda r:int(2*pi*r)\n",
    "        print(f'area of circle :{area_of_circle(r)}',f'circum_of_circle {circum_of_circle(r)}',sep=\"\\n\")\n",
    "rununtil()"
   ]
  },
  {
   "cell_type": "markdown",
   "id": "dc8d3ca8",
   "metadata": {},
   "source": [
    "# explanation \n",
    "\n",
    "#### 1 uses exception as we are taking interger input not string for calculating are of cricle"
   ]
  },
  {
   "cell_type": "markdown",
   "id": "4b9811d8",
   "metadata": {},
   "source": [
    "# Question 6\n",
    "\n",
    "###  “I am a teacher and I love to inspire and teach people”\n",
    "### How many unique words have been used in the sentence? Use the split methods and set to get the unique words."
   ]
  },
  {
   "cell_type": "code",
   "execution_count": 245,
   "id": "b6d2c8a3",
   "metadata": {},
   "outputs": [
    {
     "name": "stdout",
     "output_type": "stream",
     "text": [
      "unique words in setence  : {'a', 'teach', 'am', 'inspire', 'people', 'teacher', 'I', 'love', 'to', 'and'}\n",
      "10 unique words in sentence\n"
     ]
    }
   ],
   "source": [
    "s='I am a teacher and I love to inspire and teach people'.split(\" \")\n",
    "print('unique words in setence  :',set(s),sep=\" \")\n",
    "print(f'{len(set(s))} unique words in sentence')"
   ]
  },
  {
   "cell_type": "markdown",
   "id": "80a61dd6",
   "metadata": {},
   "source": [
    "# Explanation\n",
    "\n",
    "Here we  split words in from sentence using split method split method can be used for extracting data with specific delimited in this case it is whitespace is the delimeter\n",
    "after that with help of set we could find unique words"
   ]
  },
  {
   "cell_type": "markdown",
   "id": "18d3c7c0",
   "metadata": {},
   "source": [
    "# Question 7\n",
    "\n",
    "### Use a tab escape sequence to get the following lines.\n",
    " ### Name Age Country City\n",
    " ### Asabeneh 250 Finland Helsinki"
   ]
  },
  {
   "cell_type": "code",
   "execution_count": 246,
   "id": "e9437f8e",
   "metadata": {},
   "outputs": [
    {
     "name": "stdout",
     "output_type": "stream",
     "text": [
      "Name\tAge\tCountry\tCity\n",
      "Asabeneh\t250\tFinland\tHelsinki\n"
     ]
    }
   ],
   "source": [
    "print(\"Name\\tAge\\tCountry\\tCity\\nAsabeneh\\t250\\tFinland\\tHelsinki\")"
   ]
  },
  {
   "cell_type": "markdown",
   "id": "20187b3d",
   "metadata": {},
   "source": [
    "# Explanation\n",
    "### \\t  is tab \n",
    "### \\n is new line "
   ]
  },
  {
   "cell_type": "markdown",
   "id": "5ec29311",
   "metadata": {},
   "source": [
    "# Question 8\n",
    "\n",
    "## Use the string formatting method to display the following:\n",
    "- radius = 10\n",
    "- area = 3.14 * radius ** 2\n",
    "- “The area of a circle with radius 10 is 314 meters square.”"
   ]
  },
  {
   "cell_type": "code",
   "execution_count": 248,
   "id": "010d0f2f",
   "metadata": {},
   "outputs": [
    {
     "name": "stdout",
     "output_type": "stream",
     "text": [
      "The area of a circle with radius 10 is 314.0 meters square \n"
     ]
    }
   ],
   "source": [
    "radius = 10\n",
    "area = 3.14 * radius **2\n",
    "print(f'The area of a circle with radius 10 is {area} meters square ')"
   ]
  },
  {
   "cell_type": "markdown",
   "id": "c83f7057",
   "metadata": {},
   "source": [
    "# Explanation\n",
    "\n",
    "#### f string is string formating method that is used for inserting data with in sentence of string  this way was introduced after 3.6 before that we method called .formate()"
   ]
  },
  {
   "cell_type": "markdown",
   "id": "940cefe0",
   "metadata": {},
   "source": [
    "# Question 9\n",
    "- Write a program, which reads weights (lbs.) of N students into a list and convert these weights to\n",
    "- kilograms in a separate list using Loop. N: No of students (Read input from user)\n",
    "- Ex: L1: [150, 155, 145, 148]\n",
    "- Output: [68.03, 70.3, 65.77, 67.13]"
   ]
  },
  {
   "cell_type": "code",
   "execution_count": 266,
   "id": "a79acf87",
   "metadata": {},
   "outputs": [
    {
     "name": "stdout",
     "output_type": "stream",
     "text": [
      "please enter a how many member u want to convert for 2\n",
      "150\n",
      "155\n",
      "[68.0, 70.3]\n"
     ]
    }
   ],
   "source": [
    "def convert(val:int)->float:return round(val*0.45359237,1)\n",
    "\n",
    "n =eval( input(\"please enter a how many member u want to convert for \"))\n",
    "weight_kg=[]\n",
    "for i in range(n):\n",
    "    val = eval(input())\n",
    "    weight_kg.append(convert(val))\n",
    "print(weight_kg)"
   ]
  },
  {
   "cell_type": "markdown",
   "id": "fb32973e",
   "metadata": {},
   "source": [
    " # Explanation\n",
    " \n",
    " ### Here convert  method which specificaly returns float values after converting lbs to wegith and  rounded to 1 decimal"
   ]
  },
  {
   "cell_type": "code",
   "execution_count": null,
   "id": "e93bc1c5",
   "metadata": {},
   "outputs": [],
   "source": []
  }
 ],
 "metadata": {
  "kernelspec": {
   "display_name": "Python 3 (ipykernel)",
   "language": "python",
   "name": "python3"
  },
  "language_info": {
   "codemirror_mode": {
    "name": "ipython",
    "version": 3
   },
   "file_extension": ".py",
   "mimetype": "text/x-python",
   "name": "python",
   "nbconvert_exporter": "python",
   "pygments_lexer": "ipython3",
   "version": "3.10.4"
  }
 },
 "nbformat": 4,
 "nbformat_minor": 5
}
